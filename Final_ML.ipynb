{
  "nbformat": 4,
  "nbformat_minor": 0,
  "metadata": {
    "colab": {
      "name": "Final-ML.ipynb",
      "version": "0.3.2",
      "provenance": []
    },
    "kernelspec": {
      "name": "python3",
      "display_name": "Python 3"
    }
  },
  "cells": [
    {
      "metadata": {
        "id": "d14CzaJD8QEp",
        "colab_type": "code",
        "outputId": "53883a2a-3230-41a8-c5b1-17b1994a4b4b",
        "colab": {
          "base_uri": "https://localhost:8080/",
          "height": 747
        }
      },
      "cell_type": "code",
      "source": [
        "#Get Data\n",
        "! wget https://www.dropbox.com/s/ggl9krhh6dcwhhz/train.csv\n",
        "! wget https://www.dropbox.com/s/tst2y6mzwzbhxo3/test.csv"
      ],
      "execution_count": 0,
      "outputs": [
        {
          "output_type": "stream",
          "text": [
            "--2019-02-28 08:50:01--  https://www.dropbox.com/s/ggl9krhh6dcwhhz/train.csv\n",
            "Resolving www.dropbox.com (www.dropbox.com)... 162.125.1.1, 2620:100:6016:1::a27d:101\n",
            "Connecting to www.dropbox.com (www.dropbox.com)|162.125.1.1|:443... connected.\n",
            "HTTP request sent, awaiting response... 301 Moved Permanently\n",
            "Location: /s/raw/ggl9krhh6dcwhhz/train.csv [following]\n",
            "--2019-02-28 08:50:06--  https://www.dropbox.com/s/raw/ggl9krhh6dcwhhz/train.csv\n",
            "Reusing existing connection to www.dropbox.com:443.\n",
            "HTTP request sent, awaiting response... 302 Found\n",
            "Location: https://uc94f0a5235555133383d1f427bb.dl.dropboxusercontent.com/cd/0/inline/AcLsFTHMnEJbeilJcCD85RciH966pSJZpgVNpa4t_kkEbFBDSny-VE0RRXri9l7re6Ca0HR7dMMBtceUibMqOqIw4Aqr1IukZBxdkSdNm0MdJEsxdhkH9ieDBmQpf7gIYdg/file# [following]\n",
            "--2019-02-28 08:50:07--  https://uc94f0a5235555133383d1f427bb.dl.dropboxusercontent.com/cd/0/inline/AcLsFTHMnEJbeilJcCD85RciH966pSJZpgVNpa4t_kkEbFBDSny-VE0RRXri9l7re6Ca0HR7dMMBtceUibMqOqIw4Aqr1IukZBxdkSdNm0MdJEsxdhkH9ieDBmQpf7gIYdg/file\n",
            "Resolving uc94f0a5235555133383d1f427bb.dl.dropboxusercontent.com (uc94f0a5235555133383d1f427bb.dl.dropboxusercontent.com)... 162.125.1.6, 2620:100:601b:6::a27d:806\n",
            "Connecting to uc94f0a5235555133383d1f427bb.dl.dropboxusercontent.com (uc94f0a5235555133383d1f427bb.dl.dropboxusercontent.com)|162.125.1.6|:443... connected.\n",
            "HTTP request sent, awaiting response... 200 OK\n",
            "Length: 68802655 (66M) [text/plain]\n",
            "Saving to: ‘train.csv’\n",
            "\n",
            "train.csv           100%[===================>]  65.62M  60.2MB/s    in 1.1s    \n",
            "\n",
            "2019-02-28 08:50:08 (60.2 MB/s) - ‘train.csv’ saved [68802655/68802655]\n",
            "\n",
            "--2019-02-28 08:50:09--  https://www.dropbox.com/s/tst2y6mzwzbhxo3/test.csv\n",
            "Resolving www.dropbox.com (www.dropbox.com)... 162.125.1.1, 2620:100:6016:1::a27d:101\n",
            "Connecting to www.dropbox.com (www.dropbox.com)|162.125.1.1|:443... connected.\n",
            "HTTP request sent, awaiting response... 301 Moved Permanently\n",
            "Location: /s/raw/tst2y6mzwzbhxo3/test.csv [following]\n",
            "--2019-02-28 08:50:09--  https://www.dropbox.com/s/raw/tst2y6mzwzbhxo3/test.csv\n",
            "Reusing existing connection to www.dropbox.com:443.\n",
            "HTTP request sent, awaiting response... 302 Found\n",
            "Location: https://ucd59543832786304411b1a17873.dl.dropboxusercontent.com/cd/0/inline/AcJGn06fpA7sFdJBwpGDHDEX_uATEvEE3LugVwlDWjkeptbGbRFwhnatbApDx9QyJVKo9_qaWRjBdI9UZa2gGdlrbqiXWpgrTGdYwjemzQjTrHvClOdyrKXW9UZjBL1p-rw/file# [following]\n",
            "--2019-02-28 08:50:09--  https://ucd59543832786304411b1a17873.dl.dropboxusercontent.com/cd/0/inline/AcJGn06fpA7sFdJBwpGDHDEX_uATEvEE3LugVwlDWjkeptbGbRFwhnatbApDx9QyJVKo9_qaWRjBdI9UZa2gGdlrbqiXWpgrTGdYwjemzQjTrHvClOdyrKXW9UZjBL1p-rw/file\n",
            "Resolving ucd59543832786304411b1a17873.dl.dropboxusercontent.com (ucd59543832786304411b1a17873.dl.dropboxusercontent.com)... 162.125.8.6, 2620:100:601b:6::a27d:806\n",
            "Connecting to ucd59543832786304411b1a17873.dl.dropboxusercontent.com (ucd59543832786304411b1a17873.dl.dropboxusercontent.com)|162.125.8.6|:443... connected.\n",
            "HTTP request sent, awaiting response... 200 OK\n",
            "Length: 27511524 (26M) [text/plain]\n",
            "Saving to: ‘test.csv’\n",
            "\n",
            "test.csv            100%[===================>]  26.24M  39.3MB/s    in 0.7s    \n",
            "\n",
            "2019-02-28 08:50:10 (39.3 MB/s) - ‘test.csv’ saved [27511524/27511524]\n",
            "\n"
          ],
          "name": "stdout"
        }
      ]
    },
    {
      "metadata": {
        "id": "CRr1uavz8TXH",
        "colab_type": "code",
        "outputId": "805a2314-6adc-47c3-f078-0e54392ef33f",
        "colab": {
          "base_uri": "https://localhost:8080/",
          "height": 34
        }
      },
      "cell_type": "code",
      "source": [
        "! ls -ls train.csv"
      ],
      "execution_count": 0,
      "outputs": [
        {
          "output_type": "stream",
          "text": [
            "67196 -rw-r--r-- 1 root root 68802655 Feb 28 08:50 train.csv\n"
          ],
          "name": "stdout"
        }
      ]
    },
    {
      "metadata": {
        "id": "6v4LQOMh8O8y",
        "colab_type": "code",
        "colab": {}
      },
      "cell_type": "code",
      "source": [
        "import numpy as np\n",
        "import pandas as pd\n",
        "\n",
        "from sklearn.feature_extraction.text import TfidfVectorizer\n",
        "from sklearn.linear_model import LogisticRegression\n",
        "from sklearn.model_selection import cross_val_score\n",
        "from scipy.sparse import hstack\n",
        "\n",
        "train = pd.read_csv('train.csv').fillna(' ')\n",
        "test = pd.read_csv('test.csv').fillna(' ')\n",
        "\n",
        "training = train['comment_text']\n",
        "testing = test['comment_text']\n",
        "\n",
        "#combining data for fitting the Vectorizer\n",
        "combined_text = pd.concat([training, testing])\n"
      ],
      "execution_count": 0,
      "outputs": []
    },
    {
      "metadata": {
        "id": "H2anx02k8ZFc",
        "colab_type": "code",
        "colab": {}
      },
      "cell_type": "code",
      "source": [
        "#to vectorize word\n",
        "word_vectorizer = TfidfVectorizer(\n",
        "    sublinear_tf=True,\n",
        "    strip_accents='unicode',\n",
        "    analyzer='word',\n",
        "    token_pattern=r'\\w{1,}',\n",
        "    stop_words='english',\n",
        "    ngram_range=(1, 1),\n",
        "    max_features=10000)\n",
        "word_vectorizer.fit(combined_text)\n",
        "train_words = word_vectorizer.transform(training)\n",
        "test_words = word_vectorizer.transform(testing)\n",
        "\n"
      ],
      "execution_count": 0,
      "outputs": []
    },
    {
      "metadata": {
        "id": "uRz9SrXV8chC",
        "colab_type": "code",
        "colab": {}
      },
      "cell_type": "code",
      "source": [
        "#to vectorize character\n",
        "char_vectorizer = TfidfVectorizer(\n",
        "    sublinear_tf=True,\n",
        "    strip_accents='unicode',\n",
        "    analyzer='char',\n",
        "    stop_words='english',\n",
        "    ngram_range=(2, 6),\n",
        "    max_features=50000)\n",
        "char_vectorizer.fit(combined_text)\n",
        "train_char = char_vectorizer.transform(training)\n",
        "test_char = char_vectorizer.transform(testing)"
      ],
      "execution_count": 0,
      "outputs": []
    },
    {
      "metadata": {
        "id": "Fx_DJVZq8faY",
        "colab_type": "code",
        "colab": {}
      },
      "cell_type": "code",
      "source": [
        "train_features = hstack([train_words, train_char])  #combine word and char using hstack for training\n",
        "test_features = hstack([test_words, test_char]) #combine word and char using hstack for testing"
      ],
      "execution_count": 0,
      "outputs": []
    },
    {
      "metadata": {
        "id": "kQHkaFV-CgWS",
        "colab_type": "code",
        "colab": {}
      },
      "cell_type": "code",
      "source": [
        "train_target = train['toxic'] #set training target"
      ],
      "execution_count": 0,
      "outputs": []
    },
    {
      "metadata": {
        "id": "2h-JVRUfLJEu",
        "colab_type": "text"
      },
      "cell_type": "markdown",
      "source": [
        "##Define Model"
      ]
    },
    {
      "metadata": {
        "id": "7NSDfUIp8ok3",
        "colab_type": "code",
        "outputId": "d1767787-a78a-400e-9c90-1af2eaa7196a",
        "colab": {
          "base_uri": "https://localhost:8080/",
          "height": 87
        }
      },
      "cell_type": "code",
      "source": [
        "#define model\n",
        "classifier = LogisticRegression(C=0.1, solver='sag')\n",
        "classifier.fit(train_features, train_target)"
      ],
      "execution_count": 0,
      "outputs": [
        {
          "output_type": "execute_result",
          "data": {
            "text/plain": [
              "LogisticRegression(C=0.1, class_weight=None, dual=False, fit_intercept=True,\n",
              "          intercept_scaling=1, max_iter=100, multi_class='warn',\n",
              "          n_jobs=None, penalty='l2', random_state=None, solver='sag',\n",
              "          tol=0.0001, verbose=0, warm_start=False)"
            ]
          },
          "metadata": {
            "tags": []
          },
          "execution_count": 12
        }
      ]
    },
    {
      "metadata": {
        "id": "Z2zuq_16D1DN",
        "colab_type": "code",
        "outputId": "099d126f-526f-4eb8-93ac-3051de3236d2",
        "colab": {
          "base_uri": "https://localhost:8080/",
          "height": 34
        }
      },
      "cell_type": "code",
      "source": [
        "#ROC using cross validation on train data\n",
        "scores = []\n",
        "cv_score = np.mean(cross_val_score(classifier, train_features, train_target, cv=3, scoring='roc_auc'))\n",
        "scores.append(cv_score)\n",
        "print('Total CV score is {}'.format(np.mean(scores)))\n"
      ],
      "execution_count": 0,
      "outputs": [
        {
          "output_type": "stream",
          "text": [
            "Total CV score is 0.9697993945465266\n"
          ],
          "name": "stdout"
        }
      ]
    },
    {
      "metadata": {
        "id": "S_F2PQG6LBaD",
        "colab_type": "text"
      },
      "cell_type": "markdown",
      "source": [
        "##Validation on traning Data (test.csv)"
      ]
    },
    {
      "metadata": {
        "id": "DGYbBQH58ftL",
        "colab_type": "code",
        "colab": {}
      },
      "cell_type": "code",
      "source": [
        "#genrating final sheet and prediction\n",
        "result = pd.DataFrame.from_dict({'id': test['id']})  \n",
        "result['toxic'] = classifier.predict_proba(test_features)[:, 1] #probablity on test features storing in result considering the only class present\n"
      ],
      "execution_count": 0,
      "outputs": []
    },
    {
      "metadata": {
        "id": "PUuMdJZvEtBE",
        "colab_type": "code",
        "colab": {}
      },
      "cell_type": "code",
      "source": [
        "test_target = test['toxic'] #setting testing data target"
      ],
      "execution_count": 0,
      "outputs": []
    },
    {
      "metadata": {
        "id": "Y0So3GJ8Q4Cq",
        "colab_type": "code",
        "outputId": "a515b909-2a89-4e61-d02b-67025e56b2f0",
        "colab": {
          "base_uri": "https://localhost:8080/",
          "height": 34
        }
      },
      "cell_type": "code",
      "source": [
        "#roc on testing data \n",
        "from sklearn.metrics import roc_auc_score\n",
        "roc_auc_score(test['toxic'],result['toxic']) #calculating accuracy "
      ],
      "execution_count": 0,
      "outputs": [
        {
          "output_type": "execute_result",
          "data": {
            "text/plain": [
              "0.9583474623098701"
            ]
          },
          "metadata": {
            "tags": []
          },
          "execution_count": 17
        }
      ]
    },
    {
      "metadata": {
        "id": "9tRyXYm78rqD",
        "colab_type": "code",
        "outputId": "721ae4ee-4755-47cb-d240-1d54971f2bbe",
        "colab": {
          "base_uri": "https://localhost:8080/",
          "height": 287
        }
      },
      "cell_type": "code",
      "source": [
        "#result is having predicted pridictions and corresponding id's\n",
        "result.describe()"
      ],
      "execution_count": 0,
      "outputs": [
        {
          "output_type": "execute_result",
          "data": {
            "text/html": [
              "<div>\n",
              "<style scoped>\n",
              "    .dataframe tbody tr th:only-of-type {\n",
              "        vertical-align: middle;\n",
              "    }\n",
              "\n",
              "    .dataframe tbody tr th {\n",
              "        vertical-align: top;\n",
              "    }\n",
              "\n",
              "    .dataframe thead th {\n",
              "        text-align: right;\n",
              "    }\n",
              "</style>\n",
              "<table border=\"1\" class=\"dataframe\">\n",
              "  <thead>\n",
              "    <tr style=\"text-align: right;\">\n",
              "      <th></th>\n",
              "      <th>toxic</th>\n",
              "    </tr>\n",
              "  </thead>\n",
              "  <tbody>\n",
              "    <tr>\n",
              "      <th>count</th>\n",
              "      <td>63978.000000</td>\n",
              "    </tr>\n",
              "    <tr>\n",
              "      <th>mean</th>\n",
              "      <td>0.119019</td>\n",
              "    </tr>\n",
              "    <tr>\n",
              "      <th>std</th>\n",
              "      <td>0.206544</td>\n",
              "    </tr>\n",
              "    <tr>\n",
              "      <th>min</th>\n",
              "      <td>0.000731</td>\n",
              "    </tr>\n",
              "    <tr>\n",
              "      <th>25%</th>\n",
              "      <td>0.017120</td>\n",
              "    </tr>\n",
              "    <tr>\n",
              "      <th>50%</th>\n",
              "      <td>0.036361</td>\n",
              "    </tr>\n",
              "    <tr>\n",
              "      <th>75%</th>\n",
              "      <td>0.101262</td>\n",
              "    </tr>\n",
              "    <tr>\n",
              "      <th>max</th>\n",
              "      <td>0.999999</td>\n",
              "    </tr>\n",
              "  </tbody>\n",
              "</table>\n",
              "</div>"
            ],
            "text/plain": [
              "              toxic\n",
              "count  63978.000000\n",
              "mean       0.119019\n",
              "std        0.206544\n",
              "min        0.000731\n",
              "25%        0.017120\n",
              "50%        0.036361\n",
              "75%        0.101262\n",
              "max        0.999999"
            ]
          },
          "metadata": {
            "tags": []
          },
          "execution_count": 18
        }
      ]
    },
    {
      "metadata": {
        "id": "qZ1MV3mUiEt7",
        "colab_type": "code",
        "outputId": "c3a46713-53a1-4af1-d537-e147ac204dbf",
        "colab": {
          "base_uri": "https://localhost:8080/",
          "height": 347
        }
      },
      "cell_type": "code",
      "source": [
        "result.sample(10)"
      ],
      "execution_count": 0,
      "outputs": [
        {
          "output_type": "execute_result",
          "data": {
            "text/html": [
              "<div>\n",
              "<style scoped>\n",
              "    .dataframe tbody tr th:only-of-type {\n",
              "        vertical-align: middle;\n",
              "    }\n",
              "\n",
              "    .dataframe tbody tr th {\n",
              "        vertical-align: top;\n",
              "    }\n",
              "\n",
              "    .dataframe thead th {\n",
              "        text-align: right;\n",
              "    }\n",
              "</style>\n",
              "<table border=\"1\" class=\"dataframe\">\n",
              "  <thead>\n",
              "    <tr style=\"text-align: right;\">\n",
              "      <th></th>\n",
              "      <th>id</th>\n",
              "      <th>toxic</th>\n",
              "    </tr>\n",
              "  </thead>\n",
              "  <tbody>\n",
              "    <tr>\n",
              "      <th>14152</th>\n",
              "      <td>3870a1e0385c7ead</td>\n",
              "      <td>0.015347</td>\n",
              "    </tr>\n",
              "    <tr>\n",
              "      <th>48098</th>\n",
              "      <td>bf86717e77ba41a1</td>\n",
              "      <td>0.042650</td>\n",
              "    </tr>\n",
              "    <tr>\n",
              "      <th>58562</th>\n",
              "      <td>e9fdaa62c75a2811</td>\n",
              "      <td>0.105222</td>\n",
              "    </tr>\n",
              "    <tr>\n",
              "      <th>41245</th>\n",
              "      <td>a4752e851bc5baf0</td>\n",
              "      <td>0.610957</td>\n",
              "    </tr>\n",
              "    <tr>\n",
              "      <th>5589</th>\n",
              "      <td>16a57e4e1dfd393f</td>\n",
              "      <td>0.004309</td>\n",
              "    </tr>\n",
              "    <tr>\n",
              "      <th>53935</th>\n",
              "      <td>d75b917419b34675</td>\n",
              "      <td>0.255467</td>\n",
              "    </tr>\n",
              "    <tr>\n",
              "      <th>12904</th>\n",
              "      <td>338c7da30dc114bd</td>\n",
              "      <td>0.016381</td>\n",
              "    </tr>\n",
              "    <tr>\n",
              "      <th>51998</th>\n",
              "      <td>cf786039b4fbfe43</td>\n",
              "      <td>0.054556</td>\n",
              "    </tr>\n",
              "    <tr>\n",
              "      <th>60239</th>\n",
              "      <td>f09d8d8bfbbc9b7e</td>\n",
              "      <td>0.055665</td>\n",
              "    </tr>\n",
              "    <tr>\n",
              "      <th>42403</th>\n",
              "      <td>a91716e82c37c289</td>\n",
              "      <td>0.229725</td>\n",
              "    </tr>\n",
              "  </tbody>\n",
              "</table>\n",
              "</div>"
            ],
            "text/plain": [
              "                     id     toxic\n",
              "14152  3870a1e0385c7ead  0.015347\n",
              "48098  bf86717e77ba41a1  0.042650\n",
              "58562  e9fdaa62c75a2811  0.105222\n",
              "41245  a4752e851bc5baf0  0.610957\n",
              "5589   16a57e4e1dfd393f  0.004309\n",
              "53935  d75b917419b34675  0.255467\n",
              "12904  338c7da30dc114bd  0.016381\n",
              "51998  cf786039b4fbfe43  0.054556\n",
              "60239  f09d8d8bfbbc9b7e  0.055665\n",
              "42403  a91716e82c37c289  0.229725"
            ]
          },
          "metadata": {
            "tags": []
          },
          "execution_count": 20
        }
      ]
    },
    {
      "metadata": {
        "id": "nUf_6NkeiGUj",
        "colab_type": "code",
        "colab": {}
      },
      "cell_type": "code",
      "source": [
        ""
      ],
      "execution_count": 0,
      "outputs": []
    }
  ]
}